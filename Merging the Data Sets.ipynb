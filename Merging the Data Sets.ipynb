{
 "cells": [
  {
   "cell_type": "code",
   "execution_count": 1,
   "metadata": {},
   "outputs": [
    {
     "name": "stdout",
     "output_type": "stream",
     "text": [
      "Populating the interactive namespace from numpy and matplotlib\n"
     ]
    }
   ],
   "source": [
    "from pandas import Series, DataFrame\n",
    "import pandas as pd\n",
    "import csv\n",
    "\n",
    "%pylab inline\n",
    "\n",
    "df1 = pd.read_csv(\"austin_bikeshare_stations.csv\", dtype = unicode)\n",
    "df2 = pd.read_csv(\"austin_bikeshare_trips.csv\", dtype = unicode)\n",
    "df3 = pd.read_csv(\"austin_weather.csv\", dtype = unicode)"
   ]
  },
  {
   "cell_type": "code",
   "execution_count": 2,
   "metadata": {},
   "outputs": [],
   "source": [
    "df2[\"Date\"] = df2[\"start_time\"].str[:10]\n",
    "df2[\"bikeid\"] = df2[\"bikeid\"].str[:-2]\n",
    "df2[\"end_station_id\"] = df2[\"end_station_id\"].str[:-2]\n",
    "df2[\"month\"] = df2[\"month\"].str[:-2]\n",
    "df2[\"start_station_id\"] = df2[\"start_station_id\"].str[:-2]\n",
    "df2[\"year\"] = df2[\"year\"].str[:-2]"
   ]
  },
  {
   "cell_type": "code",
   "execution_count": 3,
   "metadata": {},
   "outputs": [],
   "source": [
    "df = df2.merge(df1, left_on = \"start_station_id\", right_on = \"station_id\")\n",
    "df = df.merge(df1, left_on = \"end_station_id\", right_on = \"station_id\", suffixes = (\"_start\", \"_end\"))\n",
    "df = df.merge(df3, on = \"Date\")"
   ]
  },
  {
   "cell_type": "code",
   "execution_count": 4,
   "metadata": {},
   "outputs": [],
   "source": [
    "df.to_csv(\"merged_bike_data.csv\", index = False)"
   ]
  },
  {
   "cell_type": "code",
   "execution_count": null,
   "metadata": {},
   "outputs": [],
   "source": []
  }
 ],
 "metadata": {
  "kernelspec": {
   "display_name": "Python 2",
   "language": "python",
   "name": "python2"
  },
  "language_info": {
   "codemirror_mode": {
    "name": "ipython",
    "version": 2
   },
   "file_extension": ".py",
   "mimetype": "text/x-python",
   "name": "python",
   "nbconvert_exporter": "python",
   "pygments_lexer": "ipython2",
   "version": "2.7.16"
  }
 },
 "nbformat": 4,
 "nbformat_minor": 2
}
